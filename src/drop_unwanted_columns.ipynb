{
 "cells": [
  {
   "cell_type": "code",
   "execution_count": 3,
   "id": "5a180d65",
   "metadata": {},
   "outputs": [
    {
     "name": "stdout",
     "output_type": "stream",
     "text": [
      "Now history_2025.parquet has shape (26801, 37) and columns:\n",
      "['element', 'fixture', 'opponent_team', 'total_points', 'was_home', 'kickoff_time', 'team_h_score', 'team_a_score', 'round', 'modified', 'minutes', 'goals_scored', 'assists', 'clean_sheets', 'goals_conceded', 'own_goals', 'penalties_saved', 'penalties_missed', 'yellow_cards', 'red_cards', 'saves', 'bonus', 'bps', 'influence', 'creativity', 'threat', 'ict_index', 'starts', 'expected_goals', 'expected_assists', 'expected_goal_involvements', 'expected_goals_conceded', 'value', 'transfers_balance', 'selected', 'transfers_in', 'transfers_out']\n"
     ]
    }
   ],
   "source": [
    "import pandas as pd\n",
    "from pathlib import Path\n",
    "\n",
    "# 1. Point to your 2025 history Parquet\n",
    "path = Path(r\"C:\\Users\\ioank\\OneDrive\\Desktop\\FPL\\data\\processed\\history_2025.parquet\")\n",
    "\n",
    "# 2. Load it\n",
    "df = pd.read_parquet(path)\n",
    "\n",
    "# 3. Drop the manager‐related columns (errors='ignore' will skip any that aren’t there)\n",
    "to_drop = [\n",
    "    \"mng_win\",\n",
    "    \"mng_draw\",\n",
    "    \"mng_loss\",\n",
    "    \"mng_underdog_win\",\n",
    "    \"mng_underdog_draw\",\n",
    "    \"mng_clean_sheets\",\n",
    "    \"mng_goals_scored\",\n",
    "]\n",
    "df = df.drop(columns=to_drop, errors=\"ignore\")\n",
    "\n",
    "# 4. Overwrite the Parquet with the slimmed‐down version\n",
    "df.to_parquet(path, index=False)\n",
    "\n",
    "print(f\"Now history_2025.parquet has shape {df.shape} and columns:\\n{df.columns.tolist()}\")"
   ]
  }
 ],
 "metadata": {
  "kernelspec": {
   "display_name": ".venv",
   "language": "python",
   "name": "python3"
  },
  "language_info": {
   "codemirror_mode": {
    "name": "ipython",
    "version": 3
   },
   "file_extension": ".py",
   "mimetype": "text/x-python",
   "name": "python",
   "nbconvert_exporter": "python",
   "pygments_lexer": "ipython3",
   "version": "3.13.2"
  }
 },
 "nbformat": 4,
 "nbformat_minor": 5
}
